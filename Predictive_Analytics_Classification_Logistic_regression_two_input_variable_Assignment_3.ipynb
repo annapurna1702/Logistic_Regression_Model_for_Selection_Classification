{
  "cells": [
    {
      "cell_type": "markdown",
      "metadata": {
        "id": "c3B3t5rzc9OG"
      },
      "source": [
        "# Question\n",
        "\n",
        "During campus interviews, company XYZ typically evaluates students based on their test scores from the company's assessment, their % of mark, and interview performance. However, moving forward, the company has decided not to interview all students and instead needs to filter candidates before scheduling interviews.\n",
        "\n",
        "The company possesses historical data that includes test scores, CGPA, and selection outcomes for previous candidates. This data will be utilized to predict whether a new candidate, with a specific test score and CGPA, will be selected for an interview or not.\n",
        "\n",
        "Data Set: interviewData.csv"
      ]
    },
    {
      "cell_type": "code",
      "execution_count": 1,
      "metadata": {
        "colab": {
          "base_uri": "https://localhost:8080/",
          "height": 206
        },
        "id": "roEOOdT_XCiT",
        "outputId": "344da62f-5496-414b-d87c-3fe18ba82154"
      },
      "outputs": [
        {
          "data": {
            "text/html": [
              "<div>\n",
              "<style scoped>\n",
              "    .dataframe tbody tr th:only-of-type {\n",
              "        vertical-align: middle;\n",
              "    }\n",
              "\n",
              "    .dataframe tbody tr th {\n",
              "        vertical-align: top;\n",
              "    }\n",
              "\n",
              "    .dataframe thead th {\n",
              "        text-align: right;\n",
              "    }\n",
              "</style>\n",
              "<table border=\"1\" class=\"dataframe\">\n",
              "  <thead>\n",
              "    <tr style=\"text-align: right;\">\n",
              "      <th></th>\n",
              "      <th>Exam Mark</th>\n",
              "      <th>test score</th>\n",
              "      <th>Selection</th>\n",
              "    </tr>\n",
              "  </thead>\n",
              "  <tbody>\n",
              "    <tr>\n",
              "      <th>0</th>\n",
              "      <td>34.623660</td>\n",
              "      <td>78.024693</td>\n",
              "      <td>No</td>\n",
              "    </tr>\n",
              "    <tr>\n",
              "      <th>1</th>\n",
              "      <td>30.286711</td>\n",
              "      <td>43.894998</td>\n",
              "      <td>No</td>\n",
              "    </tr>\n",
              "    <tr>\n",
              "      <th>2</th>\n",
              "      <td>35.847409</td>\n",
              "      <td>72.902198</td>\n",
              "      <td>No</td>\n",
              "    </tr>\n",
              "    <tr>\n",
              "      <th>3</th>\n",
              "      <td>60.182599</td>\n",
              "      <td>86.308552</td>\n",
              "      <td>Yes</td>\n",
              "    </tr>\n",
              "    <tr>\n",
              "      <th>4</th>\n",
              "      <td>79.032736</td>\n",
              "      <td>75.344376</td>\n",
              "      <td>Yes</td>\n",
              "    </tr>\n",
              "  </tbody>\n",
              "</table>\n",
              "</div>"
            ],
            "text/plain": [
              "   Exam Mark  test score Selection\n",
              "0  34.623660   78.024693        No\n",
              "1  30.286711   43.894998        No\n",
              "2  35.847409   72.902198        No\n",
              "3  60.182599   86.308552       Yes\n",
              "4  79.032736   75.344376       Yes"
            ]
          },
          "execution_count": 1,
          "metadata": {},
          "output_type": "execute_result"
        }
      ],
      "source": [
        "import pandas as pd\n",
        "import numpy as np\n",
        "import matplotlib.pyplot as plt\n",
        "\n",
        "df = pd.read_csv('interviewData.csv',header=None)\n",
        "df.columns = ['Exam Mark','test score','Selection']\n",
        "df.head()\n"
      ]
    },
    {
      "cell_type": "markdown",
      "metadata": {
        "id": "01iK500VmXtH"
      },
      "source": [
        "## Exploratory data analysis\n"
      ]
    },
    {
      "cell_type": "markdown",
      "metadata": {
        "id": "-GCJnRf7Chaz"
      },
      "source": [
        "**Answer the following:**\n",
        "* What is your target variable?\n",
        "> * Selection\n",
        "* Do you need to encode the target variable (Yes/No)?\n",
        "> * Yes\n",
        "* If yes, briefly explain why you need to encode the target variable.\n",
        "> * The target variable is in categorical form. It therefore, has to be encoded into a numerical value in order to train using it.\n",
        "* Consider the encoding methods: One-hot encoding, Binary encoding, and Label Encoding. Which one do you apply in this case?\n",
        "> * Label Encoding\n",
        "* Explain why you have selected the above encoding method.\n",
        "> * Label encoding is an encoding technique that assigns a unique numerical value to each category in a categorical variable.\n",
        "\n",
        "Read the following article\n",
        "\n",
        "https://medium.com/@swayampatil7918/exploring-different-encoding-techniques-for-machine-learning-models-b762e3b546db"
      ]
    },
    {
      "cell_type": "code",
      "execution_count": 2,
      "metadata": {
        "colab": {
          "base_uri": "https://localhost:8080/",
          "height": 423
        },
        "id": "AcBqbrVKCpi8",
        "outputId": "610283a8-da91-4efd-ce85-68ade3d0bf8a"
      },
      "outputs": [
        {
          "name": "stdout",
          "output_type": "stream",
          "text": [
            "['No', 'Yes']\n"
          ]
        },
        {
          "data": {
            "text/html": [
              "<div>\n",
              "<style scoped>\n",
              "    .dataframe tbody tr th:only-of-type {\n",
              "        vertical-align: middle;\n",
              "    }\n",
              "\n",
              "    .dataframe tbody tr th {\n",
              "        vertical-align: top;\n",
              "    }\n",
              "\n",
              "    .dataframe thead th {\n",
              "        text-align: right;\n",
              "    }\n",
              "</style>\n",
              "<table border=\"1\" class=\"dataframe\">\n",
              "  <thead>\n",
              "    <tr style=\"text-align: right;\">\n",
              "      <th></th>\n",
              "      <th>Exam Mark</th>\n",
              "      <th>test score</th>\n",
              "      <th>Selection</th>\n",
              "    </tr>\n",
              "  </thead>\n",
              "  <tbody>\n",
              "    <tr>\n",
              "      <th>0</th>\n",
              "      <td>34.623660</td>\n",
              "      <td>78.024693</td>\n",
              "      <td>0</td>\n",
              "    </tr>\n",
              "    <tr>\n",
              "      <th>1</th>\n",
              "      <td>30.286711</td>\n",
              "      <td>43.894998</td>\n",
              "      <td>0</td>\n",
              "    </tr>\n",
              "    <tr>\n",
              "      <th>2</th>\n",
              "      <td>35.847409</td>\n",
              "      <td>72.902198</td>\n",
              "      <td>0</td>\n",
              "    </tr>\n",
              "    <tr>\n",
              "      <th>3</th>\n",
              "      <td>60.182599</td>\n",
              "      <td>86.308552</td>\n",
              "      <td>1</td>\n",
              "    </tr>\n",
              "    <tr>\n",
              "      <th>4</th>\n",
              "      <td>79.032736</td>\n",
              "      <td>75.344376</td>\n",
              "      <td>1</td>\n",
              "    </tr>\n",
              "    <tr>\n",
              "      <th>...</th>\n",
              "      <td>...</td>\n",
              "      <td>...</td>\n",
              "      <td>...</td>\n",
              "    </tr>\n",
              "    <tr>\n",
              "      <th>95</th>\n",
              "      <td>83.489163</td>\n",
              "      <td>48.380286</td>\n",
              "      <td>1</td>\n",
              "    </tr>\n",
              "    <tr>\n",
              "      <th>96</th>\n",
              "      <td>42.261701</td>\n",
              "      <td>87.103851</td>\n",
              "      <td>1</td>\n",
              "    </tr>\n",
              "    <tr>\n",
              "      <th>97</th>\n",
              "      <td>99.315009</td>\n",
              "      <td>68.775409</td>\n",
              "      <td>1</td>\n",
              "    </tr>\n",
              "    <tr>\n",
              "      <th>98</th>\n",
              "      <td>55.340018</td>\n",
              "      <td>64.931938</td>\n",
              "      <td>1</td>\n",
              "    </tr>\n",
              "    <tr>\n",
              "      <th>99</th>\n",
              "      <td>74.775893</td>\n",
              "      <td>89.529813</td>\n",
              "      <td>1</td>\n",
              "    </tr>\n",
              "  </tbody>\n",
              "</table>\n",
              "<p>100 rows × 3 columns</p>\n",
              "</div>"
            ],
            "text/plain": [
              "    Exam Mark  test score  Selection\n",
              "0   34.623660   78.024693          0\n",
              "1   30.286711   43.894998          0\n",
              "2   35.847409   72.902198          0\n",
              "3   60.182599   86.308552          1\n",
              "4   79.032736   75.344376          1\n",
              "..        ...         ...        ...\n",
              "95  83.489163   48.380286          1\n",
              "96  42.261701   87.103851          1\n",
              "97  99.315009   68.775409          1\n",
              "98  55.340018   64.931938          1\n",
              "99  74.775893   89.529813          1\n",
              "\n",
              "[100 rows x 3 columns]"
            ]
          },
          "metadata": {},
          "output_type": "display_data"
        }
      ],
      "source": [
        "# Create a new dataset by apply the encoding  method selected above on the dataset\n",
        "\n",
        "# Read this to implement this part\n",
        "#  https://scikit-learn.org/stable/modules/classes.html#module-sklearn.preprocessing\n",
        "\n",
        "from sklearn import preprocessing\n",
        "\n",
        "# Select the appropriate encode\n",
        "from sklearn.preprocessing import LabelBinarizer\n",
        "#print(df['Selection'])\n",
        "\n",
        "# Transform the target variable\n",
        "labels=df['Selection']\n",
        "enc=LabelBinarizer()\n",
        "enc.fit(labels)\n",
        "new_label=enc.transform(labels)\n",
        "\n",
        "print(list(enc.classes_))\n",
        "df['Selection']=new_label\n",
        "#print(new_label)\n",
        "\n",
        "\n",
        "display(df)\n"
      ]
    },
    {
      "cell_type": "code",
      "execution_count": 19,
      "metadata": {
        "colab": {
          "base_uri": "https://localhost:8080/",
          "height": 466
        },
        "id": "QnZS80GHY09c",
        "outputId": "1966d609-db57-43ac-d448-ec3f9609e970"
      },
      "outputs": [
        {
          "data": {
            "text/plain": [
              "<Axes: xlabel='Exam Mark', ylabel='test score'>"
            ]
          },
          "execution_count": 19,
          "metadata": {},
          "output_type": "execute_result"
        },
        {
          "data": {
            "image/png": "[encoded data removed]",
            "text/plain": [
              "<Figure size 640x480 with 1 Axes>"
            ]
          },
          "metadata": {},
          "output_type": "display_data"
        }
      ],
      "source": [
        "# Wrie a code to visualize your data\n",
        "# See https://seaborn.pydata.org/generated/seaborn.scatterplot.html\n",
        "\n",
        "import seaborn as sns\n",
        "\n",
        "# sns.________(____,x = ____,y=___,hue =____)\n",
        "sns.scatterplot(x='Exam Mark',y='test score',data=df,hue='Selection')\n"
      ]
    },
    {
      "cell_type": "markdown",
      "metadata": {
        "id": "qbX_C2GMg0a6"
      },
      "source": [
        "## Logistic Regression Model\n",
        "\n",
        "logistic regression model applies the sigmoid to the familiar linear regression model as shown below:\n",
        "\n",
        "$$ \\hat y_{\\mathbf{w},b}(\\mathbf{x}^{(i)}) = g(\\mathbf{w} \\cdot \\mathbf{x}^{(i)} + b ) $$\n",
        "\n",
        "  where\n",
        "\n",
        "  $$g(z) = \\frac{1}{1+e^{-z}}$$\n",
        "\n",
        "That is\n",
        "$$\\hat y_{\\mathbf{w},b}(\\mathbf{x}^{(i)}) = \\frac{1}{1+e^{-(\\mathbf{w} \\cdot \\mathbf{x}^{(i)} + b )}}$$"
      ]
    },
    {
      "cell_type": "code",
      "execution_count": 3,
      "metadata": {
        "id": "--1_CczfgCi5"
      },
      "outputs": [],
      "source": [
        "# Write a function 'predict' to compute the logistic Regression model\n",
        "x=df[['Exam Mark','test score']].values\n",
        "y=df['Selection']\n",
        "w=np.linspace(-10,10,1000)\n",
        "b=0\n",
        "\n",
        "\n",
        "def Sigmoid(z):\n",
        "      # remove it after completing your code\n",
        "  return 1/(1+np.exp(-z))\n",
        "\n",
        "def predict(w,b,x):\n",
        "  # Your code\n",
        "  z=np.dot(x,w)+b\n",
        "  y_hat=Sigmoid(z)\n",
        "  return y_hat\n",
        "  # remove it after completing your code"
      ]
    },
    {
      "cell_type": "markdown",
      "metadata": {
        "id": "iI9R7eivkXg4"
      },
      "source": [
        "### Answer the following\n",
        "\n",
        "\n",
        "* Can you use mean squared error as the cost function (Yes/No)?\n",
        "> * No\n",
        "* Explain why you said yes or no to the above questions.\n",
        "> * Using mean squared error (MSE) as the cost function for logistic regression is not appropriate. Logistic regression is a classification algorithm, and its output is probabilities that a given input belongs to a certain class. Therefore, it's more suitable to use a cost function that penalizes deviations from the true class labels rather than deviations from the actual values themselves."
      ]
    },
    {
      "cell_type": "markdown",
      "metadata": {
        "id": "FLKSX86XkusP"
      },
      "source": [
        "### Log Loss/ Sigmoid Cross Entropy for Logistic regression\n",
        "\n",
        "     \n"
      ]
    },
    {
      "cell_type": "markdown",
      "metadata": {
        "id": "sOwctTQJlV7-"
      },
      "source": [
        "$$ loss(\\hat y_{\\mathbf{w},b}(\\mathbf{x}^{(i)}), y^{(i)}) = (-y^{(i)} \\log\\left(\\hat y_{\\mathbf{w},b}\\left( \\mathbf{x}^{(i)} \\right) \\right) - \\left( 1 - y^{(i)}\\right) \\log \\left( 1 - \\hat y_{\\mathbf{w},b}\\left( \\mathbf{x}^{(i)} \\right) \\right) $$"
      ]
    },
    {
      "cell_type": "markdown",
      "metadata": {
        "id": "RCfF0UxilNqZ"
      },
      "source": [
        "### Cost function\n"
      ]
    },
    {
      "cell_type": "markdown",
      "metadata": {
        "id": "llzH4Ji1mbUc"
      },
      "source": [
        "$$ J(\\mathbf{w},b) = \\frac{1}{m} \\sum_{i=0}^{m-1} \\left[ loss(\\hat y_{\\mathbf{w},b}(\\mathbf{x}^{(i)}), y^{(i)}) \\right]$$"
      ]
    },
    {
      "cell_type": "markdown",
      "metadata": {
        "id": "ITvwBBAOlmeJ"
      },
      "source": [
        "### Answer the following\n",
        "\n",
        "\n",
        "* What is a loss function?\n",
        "> * The loss function measures the error between the model's predictions and the actual target values for a single data point.\n",
        "* What is a cost function?\n",
        "> * The cost function aggregates the losses over the entire dataset.\n",
        "* What is the distinction between them?\n",
        "> * The loss function measures the error for a single data point, while cost function is the aggregate of loss function over multiple datapoints that constitute an entire dataset."
      ]
    },
    {
      "cell_type": "markdown",
      "metadata": {
        "id": "H2cz2kAUnAvv"
      },
      "source": [
        "### Derivative of the cost function with respect to weights"
      ]
    },
    {
      "cell_type": "markdown",
      "metadata": {
        "id": "AZuBwEDHnHh9"
      },
      "source": [
        "Type here the formulas to compute the derivatives of the const function with respect to $w_1$, $w_2$ and b"
      ]
    },
    {
      "cell_type": "code",
      "execution_count": 7,
      "metadata": {
        "id": "AlGq3F_Une2i"
      },
      "outputs": [],
      "source": [
        "# write a function to estimate the derivatives of the cost function\n",
        "def cost_fn(w,b,x,y):\n",
        "    M,N=x.shape\n",
        "    loss=np.zeros((M,))\n",
        "    for i in range(M):\n",
        "        loss[i]=-y[i]*np.log(predict(w,b,x[i]))-(1-y[i])*np.log(1-predict(w,b,x[i]))\n",
        "    return np.mean(loss)\n",
        "\n",
        "def compute_gradient_wb(w,b,x,y):\n",
        "  J_train_values = []  # to store train loss values\n",
        "  J_test_values = []   # to store test loss values\n",
        "  M,N = x.shape\n",
        "  dJ_dw = np.zeros((N,))\n",
        "  dJ_db = 0\n",
        "  for i in range(M):\n",
        "    err = predict(w,b,x[i])-y[i]\n",
        "    for j in range(N):\n",
        "      dJ_dw[j] += err*x[i,j]\n",
        "    dJ_db += err\n",
        "  dJ_dw /= M\n",
        "  dJ_db /= M\n",
        "  J_train = cost_fn(w, b, X_train, y_train)\n",
        "  J_test = cost_fn(w, b, X_test, y_test)\n",
        "        \n",
        "        # Append loss values to lists\n",
        "  J_train_values.append(J_train)\n",
        "  J_test_values.append(J_test)\n",
        "  return dJ_dw,dJ_db,J_train_values,J_test_values\n",
        "\n",
        "\n",
        "  "
      ]
    },
    {
      "cell_type": "markdown",
      "metadata": {
        "id": "eXGKItwDnuHw"
      },
      "source": [
        "### Gradient Descent Algorithm"
      ]
    },
    {
      "cell_type": "markdown",
      "metadata": {
        "id": "x6XMgkr3nt0b"
      },
      "source": [
        "$$\\begin{align*}\n",
        "&\\text{repeat until convergence:} \\; \\lbrace \\\\\n",
        "&  \\; \\; \\;w_j = w_j -  \\alpha \\frac{\\partial J(\\mathbf{w},b)}{\\partial w_j}   \\; & \\text{for j := 0..n-1} \\\\\n",
        "&  \\; \\; \\;  \\; \\;b = b -  \\alpha \\frac{\\partial J(\\mathbf{w},b)}{\\partial b} \\\\\n",
        "&\\rbrace\n",
        "\\end{align*}$$"
      ]
    },
    {
      "cell_type": "code",
      "execution_count": 12,
      "metadata": {
        "id": "sA17QN7bkuAD"
      },
      "outputs": [],
      "source": [
        "# Write a function to perform the gradient decent\n",
        "\n",
        "def gradient_descent(w,b,X_train,X_test,y_train,y_test,alpha,num_iter):\n",
        "  J_values = [1]\n",
        "  for i in range(num_iter):\n",
        "    dj_dw,dj_db,J_train_values, J_test_values = compute_gradient_wb(w,b,X_train,y_train)\n",
        "\n",
        "    w = w - alpha*dj_dw\n",
        "    b = b - alpha*dj_db\n",
        "    \n",
        "\n",
        "    J_values.append(cost_fn(w,b,X_train,y_train))\n",
        "\n",
        "    if i%10 == 0:\n",
        "      print(f\"{i:4d}th iteration----------------- cost:{J_values[-1]}\")\n",
        "\n",
        "  return w,b,J_train_values, J_test_values\n"
      ]
    },
    {
      "cell_type": "markdown",
      "metadata": {
        "id": "i7mwC8TwoLn7"
      },
      "source": [
        "## Model Training"
      ]
    },
    {
      "cell_type": "code",
      "execution_count": 13,
      "metadata": {
        "id": "Yzc-FShlkK4n"
      },
      "outputs": [
        {
          "name": "stderr",
          "output_type": "stream",
          "text": [
            "C:\\Users\\green\\AppData\\Local\\Temp\\ipykernel_2956\\1815668879.py:6: RuntimeWarning: divide by zero encountered in log\n",
            "  loss[i]=-y[i]*np.log(predict(w,b,x[i]))-(1-y[i])*np.log(1-predict(w,b,x[i]))\n",
            "C:\\Users\\green\\AppData\\Local\\Temp\\ipykernel_2956\\1815668879.py:6: RuntimeWarning: invalid value encountered in scalar multiply\n",
            "  loss[i]=-y[i]*np.log(predict(w,b,x[i]))-(1-y[i])*np.log(1-predict(w,b,x[i]))\n"
          ]
        },
        {
          "name": "stdout",
          "output_type": "stream",
          "text": [
            "   0th iteration----------------- cost:nan\n",
            "  10th iteration----------------- cost:nan\n",
            "  20th iteration----------------- cost:2.382298930819034\n",
            "  30th iteration----------------- cost:0.8404690267629957\n",
            "  40th iteration----------------- cost:0.5478158260141084\n",
            "  50th iteration----------------- cost:0.3794783358688103\n",
            "  60th iteration----------------- cost:0.3133206613580691\n",
            "  70th iteration----------------- cost:0.2936397505718646\n",
            "  80th iteration----------------- cost:0.28838770606506003\n",
            "  90th iteration----------------- cost:0.28701922640119826\n",
            " 100th iteration----------------- cost:0.28666186466290444\n",
            " 110th iteration----------------- cost:0.2865669768996133\n",
            " 120th iteration----------------- cost:0.28654038913891544\n",
            " 130th iteration----------------- cost:0.28653161469422406\n",
            " 140th iteration----------------- cost:0.28652749288939744\n",
            " 150th iteration----------------- cost:0.28652458735725184\n",
            " 160th iteration----------------- cost:0.286521999987991\n",
            " 170th iteration----------------- cost:0.28651949593732473\n",
            " 180th iteration----------------- cost:0.28651701377987865\n",
            " 190th iteration----------------- cost:0.2865145374470508\n",
            " 200th iteration----------------- cost:0.28651206273503477\n",
            " 210th iteration----------------- cost:0.28650958854399267\n",
            " 220th iteration----------------- cost:0.2865071145861618\n",
            " 230th iteration----------------- cost:0.2865046407862442\n",
            " 240th iteration----------------- cost:0.2865021671245309\n",
            " 250th iteration----------------- cost:0.28649969359585736\n",
            " 260th iteration----------------- cost:0.28649722019886414\n",
            " 270th iteration----------------- cost:0.2864947469331879\n",
            " 280th iteration----------------- cost:0.2864922737987255\n",
            " 290th iteration----------------- cost:0.286489800795442\n",
            " 300th iteration----------------- cost:0.2864873279233205\n",
            " 310th iteration----------------- cost:0.2864848551823484\n",
            " 320th iteration----------------- cost:0.2864823825725148\n",
            " 330th iteration----------------- cost:0.28647991009380874\n",
            " 340th iteration----------------- cost:0.2864774377462195\n",
            " 350th iteration----------------- cost:0.2864749655297363\n",
            " 360th iteration----------------- cost:0.2864724934443485\n",
            " 370th iteration----------------- cost:0.2864700214900453\n",
            " 380th iteration----------------- cost:0.28646754966681615\n",
            " 390th iteration----------------- cost:0.28646507797465015\n",
            " 400th iteration----------------- cost:0.28646260641353666\n",
            " 410th iteration----------------- cost:0.28646013498346495\n",
            " 420th iteration----------------- cost:0.2864576636844244\n",
            " 430th iteration----------------- cost:0.28645519251640417\n",
            " 440th iteration----------------- cost:0.28645272147939366\n",
            " 450th iteration----------------- cost:0.2864502505733822\n",
            " 460th iteration----------------- cost:0.28644777979835895\n",
            " 470th iteration----------------- cost:0.2864453091543133\n",
            " 480th iteration----------------- cost:0.2864428386412345\n",
            " 490th iteration----------------- cost:0.2864403682591119\n",
            " 500th iteration----------------- cost:0.28643789800793484\n",
            " 510th iteration----------------- cost:0.2864354278876925\n",
            " 520th iteration----------------- cost:0.28643295789837425\n",
            " 530th iteration----------------- cost:0.28643048803996934\n",
            " 540th iteration----------------- cost:0.28642801831246717\n",
            " 550th iteration----------------- cost:0.28642554871585707\n",
            " 560th iteration----------------- cost:0.28642307925012833\n",
            " 570th iteration----------------- cost:0.2864206099152701\n",
            " 580th iteration----------------- cost:0.2864181407112719\n",
            " 590th iteration----------------- cost:0.28641567163812287\n",
            " 600th iteration----------------- cost:0.2864132026958125\n",
            " 610th iteration----------------- cost:0.2864107338843299\n",
            " 620th iteration----------------- cost:0.2864082652036646\n",
            " 630th iteration----------------- cost:0.2864057966538057\n",
            " 640th iteration----------------- cost:0.28640332823474274\n",
            " 650th iteration----------------- cost:0.28640085994646486\n",
            " 660th iteration----------------- cost:0.2863983917889614\n",
            " 670th iteration----------------- cost:0.2863959237622219\n",
            " 680th iteration----------------- cost:0.28639345586623544\n",
            " 690th iteration----------------- cost:0.28639098810099134\n",
            " 700th iteration----------------- cost:0.28638852046647917\n",
            " 710th iteration----------------- cost:0.286386052962688\n",
            " 720th iteration----------------- cost:0.28638358558960725\n",
            " 730th iteration----------------- cost:0.28638111834722624\n",
            " 740th iteration----------------- cost:0.28637865123553424\n",
            " 750th iteration----------------- cost:0.2863761842545208\n",
            " 760th iteration----------------- cost:0.28637371740417505\n",
            " 770th iteration----------------- cost:0.2863712506844863\n",
            " 780th iteration----------------- cost:0.286368784095444\n",
            " 790th iteration----------------- cost:0.2863663176370375\n",
            " 800th iteration----------------- cost:0.286363851309256\n",
            " 810th iteration----------------- cost:0.28636138511208903\n",
            " 820th iteration----------------- cost:0.28635891904552574\n",
            " 830th iteration----------------- cost:0.28635645310955565\n",
            " 840th iteration----------------- cost:0.28635398730416795\n",
            " 850th iteration----------------- cost:0.28635152162935207\n",
            " 860th iteration----------------- cost:0.2863490560850973\n",
            " 870th iteration----------------- cost:0.286346590671393\n",
            " 880th iteration----------------- cost:0.2863441253882285\n",
            " 890th iteration----------------- cost:0.2863416602355932\n",
            " 900th iteration----------------- cost:0.2863391952134765\n",
            " 910th iteration----------------- cost:0.2863367303218675\n",
            " 920th iteration----------------- cost:0.28633426556075586\n",
            " 930th iteration----------------- cost:0.28633180093013066\n",
            " 940th iteration----------------- cost:0.2863293364299815\n",
            " 950th iteration----------------- cost:0.2863268720602976\n",
            " 960th iteration----------------- cost:0.2863244078210683\n",
            " 970th iteration----------------- cost:0.286321943712283\n",
            " 980th iteration----------------- cost:0.2863194797339311\n",
            " 990th iteration----------------- cost:0.28631701588600195\n"
          ]
        },
        {
          "ename": "ValueError",
          "evalue": "not enough values to unpack (expected 6, got 4)",
          "output_type": "error",
          "traceback": [
            "\u001b[1;31m---------------------------------------------------------------------------\u001b[0m",
            "\u001b[1;31mValueError\u001b[0m                                Traceback (most recent call last)",
            "Cell \u001b[1;32mIn[13], line 27\u001b[0m\n\u001b[0;32m     23\u001b[0m \u001b[38;5;66;03m# fix the number of iteration\u001b[39;00m\n\u001b[0;32m     24\u001b[0m num_iter \u001b[38;5;241m=\u001b[39m \u001b[38;5;241m1000\u001b[39m\n\u001b[1;32m---> 27\u001b[0m w,b,J_train,J_test,J_train_values,J_test_values \u001b[38;5;241m=\u001b[39m gradient_descent(w_ini,b_ini,X_train, X_test, y_train, y_test,alpha,num_iter)\n\u001b[0;32m     28\u001b[0m \u001b[38;5;28mprint\u001b[39m(\u001b[38;5;124mf\u001b[39m\u001b[38;5;124m\"\u001b[39m\u001b[38;5;124mFinal parameters: w:\u001b[39m\u001b[38;5;132;01m{\u001b[39;00mw\u001b[38;5;132;01m}\u001b[39;00m\u001b[38;5;124m, b:\u001b[39m\u001b[38;5;132;01m{\u001b[39;00mb\u001b[38;5;132;01m}\u001b[39;00m\u001b[38;5;124m\"\u001b[39m)\n",
            "\u001b[1;31mValueError\u001b[0m: not enough values to unpack (expected 6, got 4)"
          ]
        }
      ],
      "source": [
        "# Write the code to train the model\n",
        "\n",
        "# Split the data into train and test datasets using\n",
        "# see https://scikit-learn.org/stable/modules/generated/sklearn.model_selection.train_test_split.html\n",
        "from sklearn.model_selection import train_test_split\n",
        "\n",
        "# get the data from dataFrame\n",
        "X = df.iloc[:, :-1].values\n",
        "y = df.iloc[:, -1].values\n",
        "\n",
        "# split the dataset such that 20% test and 80% train data\n",
        "X_train, X_test, y_train, y_test =train_test_split(x,y,train_size=0.8,test_size=0.2,random_state=None) #your code\n",
        "\n",
        "\n",
        "# initilize the weights\n",
        "np.random.seed(1)\n",
        "w_ini = np.random.rand(2)\n",
        "b_ini = -9\n",
        "\n",
        "# Fix the learning rate\n",
        "alpha = 0.001\n",
        "\n",
        "# fix the number of iteration\n",
        "num_iter = 1000\n",
        "\n",
        "\n",
        "w,b,J_train,J_test,J_train_values,J_test_values = gradient_descent(w_ini,b_ini,X_train, X_test, y_train, y_test,alpha,num_iter)\n",
        "print(f\"Final parameters: w:{w}, b:{b}\")\n"
      ]
    },
    {
      "cell_type": "code",
      "execution_count": 16,
      "metadata": {
        "id": "JwQvMVrhqs8K"
      },
      "outputs": [
        {
          "ename": "NameError",
          "evalue": "name 'J_train_values' is not defined",
          "output_type": "error",
          "traceback": [
            "\u001b[1;31m---------------------------------------------------------------------------\u001b[0m",
            "\u001b[1;31mNameError\u001b[0m                                 Traceback (most recent call last)",
            "Cell \u001b[1;32mIn[16], line 3\u001b[0m\n\u001b[0;32m      1\u001b[0m \u001b[38;5;66;03m# Plot the train and test loss in one plot\u001b[39;00m\n\u001b[0;32m      2\u001b[0m \u001b[38;5;66;03m# Plot train and test loss\u001b[39;00m\n\u001b[1;32m----> 3\u001b[0m plt\u001b[38;5;241m.\u001b[39mplot(\u001b[43mJ_train_values\u001b[49m, label\u001b[38;5;241m=\u001b[39m\u001b[38;5;124m'\u001b[39m\u001b[38;5;124mTrain Loss\u001b[39m\u001b[38;5;124m'\u001b[39m)\n\u001b[0;32m      4\u001b[0m plt\u001b[38;5;241m.\u001b[39mplot(J_test_values, label\u001b[38;5;241m=\u001b[39m\u001b[38;5;124m'\u001b[39m\u001b[38;5;124mTest Loss\u001b[39m\u001b[38;5;124m'\u001b[39m)\n\u001b[0;32m      6\u001b[0m \u001b[38;5;66;03m# Add labels and title\u001b[39;00m\n",
            "\u001b[1;31mNameError\u001b[0m: name 'J_train_values' is not defined"
          ]
        }
      ],
      "source": [
        "# Plot the train and test loss in one plot\n",
        "# Plot train and test loss\n",
        "plt.plot(J_train_values, label='Train Loss')\n",
        "plt.plot(J_test_values, label='Test Loss')\n",
        "\n",
        "# Add labels and title\n",
        "plt.xlabel('Iteration')\n",
        "plt.ylabel('Loss')\n",
        "plt.title('Train and Test Loss')\n",
        "\n",
        "# Add legend\n",
        "plt.legend()\n",
        "\n",
        "# Show plot\n",
        "plt.show()\n",
        "\n"
      ]
    },
    {
      "cell_type": "code",
      "execution_count": 22,
      "metadata": {
        "colab": {
          "base_uri": "https://localhost:8080/",
          "height": 472
        },
        "id": "lPFsEO_5vDdc",
        "outputId": "6e266b6a-2bbb-4a7c-a14c-96ebef375392"
      },
      "outputs": [
        {
          "data": {
            "text/plain": [
              "<Axes: xlabel='Exam Mark', ylabel='test score'>"
            ]
          },
          "execution_count": 22,
          "metadata": {},
          "output_type": "execute_result"
        },
        {
          "data": {
            "image/png": "[encoded data removed]",
            "text/plain": [
              "<Figure size 640x480 with 1 Axes>"
            ]
          },
          "metadata": {},
          "output_type": "display_data"
        }
      ],
      "source": [
        "#  plot the Logistic Regression Model for the estimated w and b values\n",
        "\n",
        "P = 0.5 # the boundary seperation value (probability)\n",
        "\n",
        "# Generate sample points in the domain 30 to 100\n",
        "u = np.linspace(30, 100, 50)\n",
        "v = np.linspace(30, 100, 50)\n",
        "\n",
        "# making it into 2D mesh\n",
        "X, Y = np.meshgrid(u, v)\n",
        "logReg = np.zeros((len(u), len(v)))\n",
        "\n",
        "# Predict the result of the (u,v) pair data with the estimated w and b values\n",
        "for i in range(len(u)):\n",
        "    for j in range(len(v)):\n",
        "      zz = X[i,j]*w[0]+Y[i,j]*w[1]+b\n",
        "      logReg[i,j] = 1/(1+np.exp(-zz))\n",
        "\n",
        "\n",
        "\n",
        "plt.contour(u,v,logReg, levels = [P], colors=\"g\" )\n",
        "\n",
        "# to see the full function plot in the domain\n",
        "#plt.contourf(u,v,logReg)\n",
        "\n",
        "# Plot the real data\n",
        "sns.scatterplot(df,x = 'Exam Mark',y='test score',hue ='Selection')\n",
        "\n"
      ]
    },
    {
      "cell_type": "markdown",
      "metadata": {
        "id": "mZs85GzXoUUD"
      },
      "source": [
        "### Answer the following\n",
        "\n",
        "\n",
        "* What does the P value signify in the provided code?\n",
        "> * The P value represents the probability threshold used to classify a data point into one of the two classes. \n",
        "* How will altering the P value affect the outcome?\n",
        "> * Altering the P value will change the threshold for classification. For example, setting P value as 0.6 restricts the number of positive datapoints, while P=0.4 classifies more points as positive.\n",
        "* What range of values can P encompass?\n",
        "> * The range of values of P can encompass from 0 to 1, inclusive.\n",
        "* Describe the importance of the P value in a project aimed at classifying tumors as malignant or benign.\n",
        "> * In a project aimed at classifying tumors as malignant or benign, the choice of value of the probability threshold (P) is crucial. A lower threshold would result in more false positives, that is, benign tumors may be classified as malignant, but fewer false negatives.On the other hand, a higher threshold would lead to fewer false positives but more false negatives. "
      ]
    },
    {
      "cell_type": "markdown",
      "metadata": {
        "id": "fxrRUraGrTAZ"
      },
      "source": [
        "### Imagine a scenario where a student scores 65 marks in both the Exam and Test. Use your model to predict whether the student will pass the interview or not."
      ]
    },
    {
      "cell_type": "code",
      "execution_count": 18,
      "metadata": {
        "id": "UG18sSivsBY-"
      },
      "outputs": [
        {
          "name": "stdout",
          "output_type": "stream",
          "text": [
            "The student will pass the interview.\n"
          ]
        }
      ],
      "source": [
        "# Assuming the student's exam score is 65 and test score is 65\n",
        "new_student_scores = np.array([[65, 65]])\n",
        "w=np.random.rand(2)\n",
        "b=-9\n",
        "\n",
        "# Reshape to match the expected input shape (1 sample, 2 features)\n",
        "new_student_scores = new_student_scores.reshape(1, -1)\n",
        "\n",
        "# Predict whether the student will pass the interview\n",
        "prediction = predict(w, b, new_student_scores)\n",
        "\n",
        "# Convert probability to binary prediction\n",
        "binary_prediction = 1 if prediction >= 0.5 else 0\n",
        "\n",
        "if binary_prediction == 1:\n",
        "    print(\"The student will pass the interview.\")\n",
        "else:\n",
        "    print(\"The student will not pass the interview.\")\n"
      ]
    }
  ],
  "metadata": {
    "colab": {
      "provenance": []
    },
    "kernelspec": {
      "display_name": "Python 3",
      "name": "python3"
    },
    "language_info": {
      "codemirror_mode": {
        "name": "ipython",
        "version": 3
      },
      "file_extension": ".py",
      "mimetype": "text/x-python",
      "name": "python",
      "nbconvert_exporter": "python",
      "pygments_lexer": "ipython3",
      "version": "3.12.2"
    }
  },
  "nbformat": 4,
  "nbformat_minor": 0
}
